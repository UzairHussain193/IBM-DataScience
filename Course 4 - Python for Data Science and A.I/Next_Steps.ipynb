{
 "cells": [
  {
   "attachments": {},
   "cell_type": "markdown",
   "metadata": {},
   "source": [
    "### Next Steps\n",
    "Congratulations on completing this course. We hope you enjoyed it.\n",
    "\n",
    "As a next step, you can take the appropriate follow-on Python Project from the list below to apply your new found skills in a real-world scenario.\n",
    "\n",
    "[Python Project for Data Science](https://www.coursera.org/learn/python-project-for-data-science)\n",
    "\n",
    "[Python Project for Data Engineering](https://www.coursera.org/learn/python-project-for-data-engineering)\n",
    "\n",
    "[Python Project for AI & Application Development](https://www.coursera.org/learn/python-project-for-ai-application-development)\n",
    "\n",
    "Note: Successful completion of this course is a pre-requisite for these Python Project courses. \n",
    "\n",
    "You can explore the courses below to further hone and develop your skills for working with Data and Python:\n",
    "\n",
    "[Databases and SQL for Data Science with Python](https://www.coursera.org/learn/sql-data-science)\n",
    "\n",
    "If you are looking to start a career in Data Science, Data Engineering or AI & Application Development, note that this course is part of the following Professional Certificates which are designed to empower you with the skills to become job-ready in these fields. \n",
    "\n",
    "[IBM Applied AI Professional Certificate](https://www.coursera.org/professional-certificates/applied-artifical-intelligence-ibm-watson-ai)\n",
    "\n",
    "[IBM Data Analyst Professional Certificate](https://www.coursera.org/professional-certificates/ibm-data-analyst)\n",
    "\n",
    "[IBM Data Science Professional Certificate](https://www.coursera.org/professional-certificates/ibm-data-science)\n",
    "\n",
    "IBM Data Engineering Professional Certificate\n",
    "\n",
    "[IBM Full Stack Cloud Developer Professional Certificate](https://www.coursera.org/professional-certificates/ibm-full-stack-cloud-developer)\n",
    "\n",
    "We encourage you to leave your feedback and rate this course.\n",
    "\n",
    "Good luck!"
   ]
  },
  {
   "cell_type": "code",
   "execution_count": null,
   "metadata": {},
   "outputs": [],
   "source": []
  }
 ],
 "metadata": {
  "kernelspec": {
   "display_name": "Python 3",
   "language": "python",
   "name": "python3"
  },
  "language_info": {
   "name": "python",
   "version": "3.11.1 (tags/v3.11.1:a7a450f, Dec  6 2022, 19:58:39) [MSC v.1934 64 bit (AMD64)]"
  },
  "orig_nbformat": 4,
  "vscode": {
   "interpreter": {
    "hash": "ff4b1fca65a764b45acb559e482afe389d289dd599b9f8c5fd12ff5c2ea46a65"
   }
  }
 },
 "nbformat": 4,
 "nbformat_minor": 2
}
